{
 "cells": [
  {
   "cell_type": "code",
   "execution_count": 1,
   "metadata": {},
   "outputs": [],
   "source": [
    "import sqlite3 as sql\n",
    "import pandas as pd\n",
    "import datetime"
   ]
  },
  {
   "cell_type": "code",
   "execution_count": 2,
   "metadata": {},
   "outputs": [],
   "source": [
    "conn = sql.connect('Data.sqlite')\n",
    "fire = pd.read_sql('SELECT * FROM Fires', conn)"
   ]
  },
  {
   "cell_type": "code",
   "execution_count": 3,
   "metadata": {},
   "outputs": [
    {
     "data": {
      "text/plain": [
       "pandas.core.frame.DataFrame"
      ]
     },
     "execution_count": 3,
     "metadata": {},
     "output_type": "execute_result"
    }
   ],
   "source": [
    "type(fire)"
   ]
  },
  {
   "cell_type": "code",
   "execution_count": 4,
   "metadata": {},
   "outputs": [
    {
     "data": {
      "text/plain": [
       "(892007, 39)"
      ]
     },
     "execution_count": 4,
     "metadata": {},
     "output_type": "execute_result"
    }
   ],
   "source": [
    "fire.shape"
   ]
  },
  {
   "cell_type": "code",
   "execution_count": 3,
   "metadata": {},
   "outputs": [
    {
     "data": {
      "text/html": [
       "<div>\n",
       "<style scoped>\n",
       "    .dataframe tbody tr th:only-of-type {\n",
       "        vertical-align: middle;\n",
       "    }\n",
       "\n",
       "    .dataframe tbody tr th {\n",
       "        vertical-align: top;\n",
       "    }\n",
       "\n",
       "    .dataframe thead th {\n",
       "        text-align: right;\n",
       "    }\n",
       "</style>\n",
       "<table border=\"1\" class=\"dataframe\">\n",
       "  <thead>\n",
       "    <tr style=\"text-align: right;\">\n",
       "      <th></th>\n",
       "      <th>OBJECTID</th>\n",
       "      <th>FOD_ID</th>\n",
       "      <th>FPA_ID</th>\n",
       "      <th>SOURCE_SYSTEM_TYPE</th>\n",
       "      <th>SOURCE_SYSTEM</th>\n",
       "      <th>NWCG_REPORTING_AGENCY</th>\n",
       "      <th>NWCG_REPORTING_UNIT_ID</th>\n",
       "      <th>NWCG_REPORTING_UNIT_NAME</th>\n",
       "      <th>SOURCE_REPORTING_UNIT</th>\n",
       "      <th>SOURCE_REPORTING_UNIT_NAME</th>\n",
       "      <th>...</th>\n",
       "      <th>FIRE_SIZE_CLASS</th>\n",
       "      <th>LATITUDE</th>\n",
       "      <th>LONGITUDE</th>\n",
       "      <th>OWNER_CODE</th>\n",
       "      <th>OWNER_DESCR</th>\n",
       "      <th>STATE</th>\n",
       "      <th>COUNTY</th>\n",
       "      <th>FIPS_CODE</th>\n",
       "      <th>FIPS_NAME</th>\n",
       "      <th>Shape</th>\n",
       "    </tr>\n",
       "  </thead>\n",
       "  <tbody>\n",
       "    <tr>\n",
       "      <th>0</th>\n",
       "      <td>1</td>\n",
       "      <td>1</td>\n",
       "      <td>FS-1418826</td>\n",
       "      <td>FED</td>\n",
       "      <td>FS-FIRESTAT</td>\n",
       "      <td>FS</td>\n",
       "      <td>USCAPNF</td>\n",
       "      <td>Plumas National Forest</td>\n",
       "      <td>0511</td>\n",
       "      <td>Plumas National Forest</td>\n",
       "      <td>...</td>\n",
       "      <td>A</td>\n",
       "      <td>40.036944</td>\n",
       "      <td>-121.005833</td>\n",
       "      <td>5.0</td>\n",
       "      <td>USFS</td>\n",
       "      <td>CA</td>\n",
       "      <td>63</td>\n",
       "      <td>063</td>\n",
       "      <td>Plumas</td>\n",
       "      <td>b'\\x00\\x01\\xad\\x10\\x00\\x00\\xe8d\\xc2\\x92_@^\\xc0...</td>\n",
       "    </tr>\n",
       "    <tr>\n",
       "      <th>1</th>\n",
       "      <td>2</td>\n",
       "      <td>2</td>\n",
       "      <td>FS-1418827</td>\n",
       "      <td>FED</td>\n",
       "      <td>FS-FIRESTAT</td>\n",
       "      <td>FS</td>\n",
       "      <td>USCAENF</td>\n",
       "      <td>Eldorado National Forest</td>\n",
       "      <td>0503</td>\n",
       "      <td>Eldorado National Forest</td>\n",
       "      <td>...</td>\n",
       "      <td>A</td>\n",
       "      <td>38.933056</td>\n",
       "      <td>-120.404444</td>\n",
       "      <td>5.0</td>\n",
       "      <td>USFS</td>\n",
       "      <td>CA</td>\n",
       "      <td>61</td>\n",
       "      <td>061</td>\n",
       "      <td>Placer</td>\n",
       "      <td>b'\\x00\\x01\\xad\\x10\\x00\\x00T\\xb6\\xeej\\xe2\\x19^\\...</td>\n",
       "    </tr>\n",
       "    <tr>\n",
       "      <th>2</th>\n",
       "      <td>3</td>\n",
       "      <td>3</td>\n",
       "      <td>FS-1418835</td>\n",
       "      <td>FED</td>\n",
       "      <td>FS-FIRESTAT</td>\n",
       "      <td>FS</td>\n",
       "      <td>USCAENF</td>\n",
       "      <td>Eldorado National Forest</td>\n",
       "      <td>0503</td>\n",
       "      <td>Eldorado National Forest</td>\n",
       "      <td>...</td>\n",
       "      <td>A</td>\n",
       "      <td>38.984167</td>\n",
       "      <td>-120.735556</td>\n",
       "      <td>13.0</td>\n",
       "      <td>STATE OR PRIVATE</td>\n",
       "      <td>CA</td>\n",
       "      <td>17</td>\n",
       "      <td>017</td>\n",
       "      <td>El Dorado</td>\n",
       "      <td>b'\\x00\\x01\\xad\\x10\\x00\\x00\\xd0\\xa5\\xa0W\\x13/^\\...</td>\n",
       "    </tr>\n",
       "    <tr>\n",
       "      <th>3</th>\n",
       "      <td>4</td>\n",
       "      <td>4</td>\n",
       "      <td>FS-1418845</td>\n",
       "      <td>FED</td>\n",
       "      <td>FS-FIRESTAT</td>\n",
       "      <td>FS</td>\n",
       "      <td>USCAENF</td>\n",
       "      <td>Eldorado National Forest</td>\n",
       "      <td>0503</td>\n",
       "      <td>Eldorado National Forest</td>\n",
       "      <td>...</td>\n",
       "      <td>A</td>\n",
       "      <td>38.559167</td>\n",
       "      <td>-119.913333</td>\n",
       "      <td>5.0</td>\n",
       "      <td>USFS</td>\n",
       "      <td>CA</td>\n",
       "      <td>3</td>\n",
       "      <td>003</td>\n",
       "      <td>Alpine</td>\n",
       "      <td>b'\\x00\\x01\\xad\\x10\\x00\\x00\\x94\\xac\\xa3\\rt\\xfa]...</td>\n",
       "    </tr>\n",
       "    <tr>\n",
       "      <th>4</th>\n",
       "      <td>5</td>\n",
       "      <td>5</td>\n",
       "      <td>FS-1418847</td>\n",
       "      <td>FED</td>\n",
       "      <td>FS-FIRESTAT</td>\n",
       "      <td>FS</td>\n",
       "      <td>USCAENF</td>\n",
       "      <td>Eldorado National Forest</td>\n",
       "      <td>0503</td>\n",
       "      <td>Eldorado National Forest</td>\n",
       "      <td>...</td>\n",
       "      <td>A</td>\n",
       "      <td>38.559167</td>\n",
       "      <td>-119.933056</td>\n",
       "      <td>5.0</td>\n",
       "      <td>USFS</td>\n",
       "      <td>CA</td>\n",
       "      <td>3</td>\n",
       "      <td>003</td>\n",
       "      <td>Alpine</td>\n",
       "      <td>b'\\x00\\x01\\xad\\x10\\x00\\x00@\\xe3\\xaa.\\xb7\\xfb]\\...</td>\n",
       "    </tr>\n",
       "    <tr>\n",
       "      <th>5</th>\n",
       "      <td>6</td>\n",
       "      <td>6</td>\n",
       "      <td>FS-1418849</td>\n",
       "      <td>FED</td>\n",
       "      <td>FS-FIRESTAT</td>\n",
       "      <td>FS</td>\n",
       "      <td>USCAENF</td>\n",
       "      <td>Eldorado National Forest</td>\n",
       "      <td>0503</td>\n",
       "      <td>Eldorado National Forest</td>\n",
       "      <td>...</td>\n",
       "      <td>A</td>\n",
       "      <td>38.635278</td>\n",
       "      <td>-120.103611</td>\n",
       "      <td>5.0</td>\n",
       "      <td>USFS</td>\n",
       "      <td>CA</td>\n",
       "      <td>5</td>\n",
       "      <td>005</td>\n",
       "      <td>Amador</td>\n",
       "      <td>b'\\x00\\x01\\xad\\x10\\x00\\x00\\xf0&lt;~\\x90\\xa1\\x06^\\...</td>\n",
       "    </tr>\n",
       "    <tr>\n",
       "      <th>6</th>\n",
       "      <td>7</td>\n",
       "      <td>7</td>\n",
       "      <td>FS-1418851</td>\n",
       "      <td>FED</td>\n",
       "      <td>FS-FIRESTAT</td>\n",
       "      <td>FS</td>\n",
       "      <td>USCAENF</td>\n",
       "      <td>Eldorado National Forest</td>\n",
       "      <td>0503</td>\n",
       "      <td>Eldorado National Forest</td>\n",
       "      <td>...</td>\n",
       "      <td>A</td>\n",
       "      <td>38.688333</td>\n",
       "      <td>-120.153333</td>\n",
       "      <td>5.0</td>\n",
       "      <td>USFS</td>\n",
       "      <td>CA</td>\n",
       "      <td>17</td>\n",
       "      <td>017</td>\n",
       "      <td>El Dorado</td>\n",
       "      <td>b'\\x00\\x01\\xad\\x10\\x00\\x00$o\\x996\\xd0\\t^\\xc0h\\...</td>\n",
       "    </tr>\n",
       "    <tr>\n",
       "      <th>7</th>\n",
       "      <td>8</td>\n",
       "      <td>8</td>\n",
       "      <td>FS-1418854</td>\n",
       "      <td>FED</td>\n",
       "      <td>FS-FIRESTAT</td>\n",
       "      <td>FS</td>\n",
       "      <td>USCASHF</td>\n",
       "      <td>Shasta-Trinity National Forest</td>\n",
       "      <td>0514</td>\n",
       "      <td>Shasta-Trinity National Forest</td>\n",
       "      <td>...</td>\n",
       "      <td>B</td>\n",
       "      <td>40.968056</td>\n",
       "      <td>-122.433889</td>\n",
       "      <td>13.0</td>\n",
       "      <td>STATE OR PRIVATE</td>\n",
       "      <td>CA</td>\n",
       "      <td>None</td>\n",
       "      <td>None</td>\n",
       "      <td>None</td>\n",
       "      <td>b'\\x00\\x01\\xad\\x10\\x00\\x00t)\\xe8\\xd5\\xc4\\x9b^\\...</td>\n",
       "    </tr>\n",
       "    <tr>\n",
       "      <th>8</th>\n",
       "      <td>9</td>\n",
       "      <td>9</td>\n",
       "      <td>FS-1418856</td>\n",
       "      <td>FED</td>\n",
       "      <td>FS-FIRESTAT</td>\n",
       "      <td>FS</td>\n",
       "      <td>USCASHF</td>\n",
       "      <td>Shasta-Trinity National Forest</td>\n",
       "      <td>0514</td>\n",
       "      <td>Shasta-Trinity National Forest</td>\n",
       "      <td>...</td>\n",
       "      <td>B</td>\n",
       "      <td>41.233611</td>\n",
       "      <td>-122.283333</td>\n",
       "      <td>13.0</td>\n",
       "      <td>STATE OR PRIVATE</td>\n",
       "      <td>CA</td>\n",
       "      <td>None</td>\n",
       "      <td>None</td>\n",
       "      <td>None</td>\n",
       "      <td>b'\\x00\\x01\\xad\\x10\\x00\\x00\\xdc\\x8d\\x1e\"\"\\x92^\\...</td>\n",
       "    </tr>\n",
       "    <tr>\n",
       "      <th>9</th>\n",
       "      <td>10</td>\n",
       "      <td>10</td>\n",
       "      <td>FS-1418859</td>\n",
       "      <td>FED</td>\n",
       "      <td>FS-FIRESTAT</td>\n",
       "      <td>FS</td>\n",
       "      <td>USCAENF</td>\n",
       "      <td>Eldorado National Forest</td>\n",
       "      <td>0503</td>\n",
       "      <td>Eldorado National Forest</td>\n",
       "      <td>...</td>\n",
       "      <td>A</td>\n",
       "      <td>38.548333</td>\n",
       "      <td>-120.149167</td>\n",
       "      <td>5.0</td>\n",
       "      <td>USFS</td>\n",
       "      <td>CA</td>\n",
       "      <td>5</td>\n",
       "      <td>005</td>\n",
       "      <td>Amador</td>\n",
       "      <td>b'\\x00\\x01\\xad\\x10\\x00\\x00dS\\\\\\xf2\\x8b\\t^\\xc0\\...</td>\n",
       "    </tr>\n",
       "  </tbody>\n",
       "</table>\n",
       "<p>10 rows × 39 columns</p>\n",
       "</div>"
      ],
      "text/plain": [
       "   OBJECTID  FOD_ID      FPA_ID SOURCE_SYSTEM_TYPE SOURCE_SYSTEM  \\\n",
       "0         1       1  FS-1418826                FED   FS-FIRESTAT   \n",
       "1         2       2  FS-1418827                FED   FS-FIRESTAT   \n",
       "2         3       3  FS-1418835                FED   FS-FIRESTAT   \n",
       "3         4       4  FS-1418845                FED   FS-FIRESTAT   \n",
       "4         5       5  FS-1418847                FED   FS-FIRESTAT   \n",
       "5         6       6  FS-1418849                FED   FS-FIRESTAT   \n",
       "6         7       7  FS-1418851                FED   FS-FIRESTAT   \n",
       "7         8       8  FS-1418854                FED   FS-FIRESTAT   \n",
       "8         9       9  FS-1418856                FED   FS-FIRESTAT   \n",
       "9        10      10  FS-1418859                FED   FS-FIRESTAT   \n",
       "\n",
       "  NWCG_REPORTING_AGENCY NWCG_REPORTING_UNIT_ID  \\\n",
       "0                    FS                USCAPNF   \n",
       "1                    FS                USCAENF   \n",
       "2                    FS                USCAENF   \n",
       "3                    FS                USCAENF   \n",
       "4                    FS                USCAENF   \n",
       "5                    FS                USCAENF   \n",
       "6                    FS                USCAENF   \n",
       "7                    FS                USCASHF   \n",
       "8                    FS                USCASHF   \n",
       "9                    FS                USCAENF   \n",
       "\n",
       "         NWCG_REPORTING_UNIT_NAME SOURCE_REPORTING_UNIT  \\\n",
       "0          Plumas National Forest                  0511   \n",
       "1        Eldorado National Forest                  0503   \n",
       "2        Eldorado National Forest                  0503   \n",
       "3        Eldorado National Forest                  0503   \n",
       "4        Eldorado National Forest                  0503   \n",
       "5        Eldorado National Forest                  0503   \n",
       "6        Eldorado National Forest                  0503   \n",
       "7  Shasta-Trinity National Forest                  0514   \n",
       "8  Shasta-Trinity National Forest                  0514   \n",
       "9        Eldorado National Forest                  0503   \n",
       "\n",
       "       SOURCE_REPORTING_UNIT_NAME  ... FIRE_SIZE_CLASS   LATITUDE   LONGITUDE  \\\n",
       "0          Plumas National Forest  ...               A  40.036944 -121.005833   \n",
       "1        Eldorado National Forest  ...               A  38.933056 -120.404444   \n",
       "2        Eldorado National Forest  ...               A  38.984167 -120.735556   \n",
       "3        Eldorado National Forest  ...               A  38.559167 -119.913333   \n",
       "4        Eldorado National Forest  ...               A  38.559167 -119.933056   \n",
       "5        Eldorado National Forest  ...               A  38.635278 -120.103611   \n",
       "6        Eldorado National Forest  ...               A  38.688333 -120.153333   \n",
       "7  Shasta-Trinity National Forest  ...               B  40.968056 -122.433889   \n",
       "8  Shasta-Trinity National Forest  ...               B  41.233611 -122.283333   \n",
       "9        Eldorado National Forest  ...               A  38.548333 -120.149167   \n",
       "\n",
       "  OWNER_CODE       OWNER_DESCR STATE COUNTY FIPS_CODE  FIPS_NAME  \\\n",
       "0        5.0              USFS    CA     63       063     Plumas   \n",
       "1        5.0              USFS    CA     61       061     Placer   \n",
       "2       13.0  STATE OR PRIVATE    CA     17       017  El Dorado   \n",
       "3        5.0              USFS    CA      3       003     Alpine   \n",
       "4        5.0              USFS    CA      3       003     Alpine   \n",
       "5        5.0              USFS    CA      5       005     Amador   \n",
       "6        5.0              USFS    CA     17       017  El Dorado   \n",
       "7       13.0  STATE OR PRIVATE    CA   None      None       None   \n",
       "8       13.0  STATE OR PRIVATE    CA   None      None       None   \n",
       "9        5.0              USFS    CA      5       005     Amador   \n",
       "\n",
       "                                               Shape  \n",
       "0  b'\\x00\\x01\\xad\\x10\\x00\\x00\\xe8d\\xc2\\x92_@^\\xc0...  \n",
       "1  b'\\x00\\x01\\xad\\x10\\x00\\x00T\\xb6\\xeej\\xe2\\x19^\\...  \n",
       "2  b'\\x00\\x01\\xad\\x10\\x00\\x00\\xd0\\xa5\\xa0W\\x13/^\\...  \n",
       "3  b'\\x00\\x01\\xad\\x10\\x00\\x00\\x94\\xac\\xa3\\rt\\xfa]...  \n",
       "4  b'\\x00\\x01\\xad\\x10\\x00\\x00@\\xe3\\xaa.\\xb7\\xfb]\\...  \n",
       "5  b'\\x00\\x01\\xad\\x10\\x00\\x00\\xf0<~\\x90\\xa1\\x06^\\...  \n",
       "6  b'\\x00\\x01\\xad\\x10\\x00\\x00$o\\x996\\xd0\\t^\\xc0h\\...  \n",
       "7  b'\\x00\\x01\\xad\\x10\\x00\\x00t)\\xe8\\xd5\\xc4\\x9b^\\...  \n",
       "8  b'\\x00\\x01\\xad\\x10\\x00\\x00\\xdc\\x8d\\x1e\"\"\\x92^\\...  \n",
       "9  b'\\x00\\x01\\xad\\x10\\x00\\x00dS\\\\\\xf2\\x8b\\t^\\xc0\\...  \n",
       "\n",
       "[10 rows x 39 columns]"
      ]
     },
     "execution_count": 3,
     "metadata": {},
     "output_type": "execute_result"
    }
   ],
   "source": [
    "fire.head(10)"
   ]
  },
  {
   "cell_type": "code",
   "execution_count": 45,
   "metadata": {},
   "outputs": [
    {
     "data": {
      "text/plain": [
       "1880465"
      ]
     },
     "execution_count": 45,
     "metadata": {},
     "output_type": "execute_result"
    }
   ],
   "source": [
    "fire[\"DISCOVERY_DATE\"].count()"
   ]
  },
  {
   "cell_type": "code",
   "execution_count": 49,
   "metadata": {},
   "outputs": [
    {
     "data": {
      "text/plain": [
       "988934"
      ]
     },
     "execution_count": 49,
     "metadata": {},
     "output_type": "execute_result"
    }
   ],
   "source": [
    "fire[\"CONT_DATE\"].count()"
   ]
  },
  {
   "cell_type": "code",
   "execution_count": 59,
   "metadata": {},
   "outputs": [
    {
     "data": {
      "text/plain": [
       "1992"
      ]
     },
     "execution_count": 59,
     "metadata": {},
     "output_type": "execute_result"
    }
   ],
   "source": [
    "fire[\"FIRE_YEAR\"].min()"
   ]
  },
  {
   "cell_type": "code",
   "execution_count": 19,
   "metadata": {},
   "outputs": [],
   "source": [
    "fire.dropna(subset=[\"DISCOVERY_DATE\", \"DISCOVERY_TIME\",\"CONT_DATE\",\"CONT_TIME\"],inplace=True)"
   ]
  },
  {
   "cell_type": "code",
   "execution_count": 9,
   "metadata": {},
   "outputs": [],
   "source": [
    "def jd2cal(jd_val):\n",
    "    # print(jd_val)\n",
    "    mjd_val = int(jd_val-2400000.5)\n",
    "    #print(mjd_val)\n",
    "    start_time = datetime.date(1858, 11, 17)\n",
    "    end_date = start_time + datetime.timedelta(days=mjd_val)\n",
    "    return end_date.strftime(\"%m/%d/%Y\")\n",
    "    "
   ]
  },
  {
   "cell_type": "code",
   "execution_count": 20,
   "metadata": {},
   "outputs": [
    {
     "name": "stdout",
     "output_type": "stream",
     "text": [
      "17.93972222\n",
      "70.3306\n",
      "-168.87\n",
      "-65.25694444\n",
      "10762.116332162086\n",
      "5825.607858252318\n"
     ]
    }
   ],
   "source": [
    "import numpy as np\n",
    "import haversine as hs\n",
    "\n",
    "fire.head()\n",
    "df = pd.DataFrame()\n",
    "\n",
    "print(min(fire[\"LATITUDE\"]))\n",
    "print(max(fire[\"LATITUDE\"]))\n",
    "print(min(fire[\"LONGITUDE\"]))\n",
    "print(max(fire[\"LONGITUDE\"]))\n",
    "\n",
    "bottomLeft = (min(fire[\"LATITUDE\"]), min(fire[\"LONGITUDE\"]))\n",
    "bottomRight = (min(fire[\"LATITUDE\"]), max(fire[\"LONGITUDE\"]))\n",
    "topLeft = (max(fire[\"LATITUDE\"]), min(fire[\"LONGITUDE\"]))\n",
    "topRight = (max(fire[\"LATITUDE\"]), max(fire[\"LONGITUDE\"]))\n",
    "\n",
    "length = hs.haversine(bottomLeft,bottomRight)\n",
    "width = hs.haversine(bottomLeft,topLeft)\n",
    "print(length)\n",
    "print(width)\n",
    "\n",
    "cols = np.linspace(bottomLeft[1], bottomRight[1], num=600)\n",
    "rows = np.linspace(bottomLeft[0], topLeft[0], num=300)\n",
    "#cols = [round(num,8) for num in cols]\n",
    "#rows = [round(num,8) for num in rows]\n",
    "\n",
    "df_cols = np.searchsorted(cols, fire[\"LONGITUDE\"])\n",
    "df_row = np.searchsorted(rows, fire[\"LATITUDE\"])\n",
    "\n",
    "col = [str('%.4f'%round(int,4)) for int in cols[df_cols]]\n",
    "row = [str('%.4f'%round(int,4)) for int in rows[df_row]]\n",
    "\n",
    "temp = []\n",
    "for index,val in enumerate(col):\n",
    "    temp.append(col[index]+','+row[index])\n",
    "\n",
    "df[\"LONGITUDE\"] = fire[\"LONGITUDE\"]\n",
    "df[\"LATITUDE\"] = fire[\"LATITUDE\"]\n",
    "df[\"LONG/LAT\"] = temp\n",
    "df[\"DISCOVERY_DATE\"] = fire[\"DISCOVERY_DATE\"]\n",
    "df[\"DISCOVERY_TIME\"] = fire[\"DISCOVERY_TIME\"]\n",
    "df[\"CONT_DATE\"] = fire[\"CONT_DATE\"]\n",
    "df[\"CONT_TIME\"] = fire[\"CONT_TIME\"]\n",
    "#df[\"LONG\"] = cols[df_cols]\n",
    "#df[\"LAT\"] = rows[df_row]\n",
    "#df = df.sort_values(by=[\"LONG\",\"LAT\"])\n",
    "\n",
    "df.to_csv('Data_with_category.csv')"
   ]
  },
  {
   "cell_type": "code",
   "execution_count": 21,
   "metadata": {},
   "outputs": [],
   "source": [
    "gk = df.groupby(\"LONG/LAT\")"
   ]
  },
  {
   "cell_type": "code",
   "execution_count": 22,
   "metadata": {},
   "outputs": [
    {
     "name": "stdout",
     "output_type": "stream",
     "text": [
      "23798\n"
     ]
    }
   ],
   "source": [
    "LL_list = df[\"LONG/LAT\"].unique()\n",
    "LL_list = LL_list.tolist()\n",
    "print(len(LL_list))"
   ]
  },
  {
   "cell_type": "code",
   "execution_count": 23,
   "metadata": {},
   "outputs": [],
   "source": [
    "Dataset_list = []\n",
    "Data_csv_list = []\n",
    "for LL in LL_list:\n",
    "    temp_list = [None]*4\n",
    "    LL_df = gk.get_group(LL)\n",
    "    # if(len(LL_df) > 3):\n",
    "    #     LL_df = LL_df.sample(3)\n",
    "    LL_df = LL_df.sort_values(by=[\"DISCOVERY_DATE\"],ascending=False)\n",
    "    LL_df = LL_df.head(1)\n",
    "    Dataset_list.append(LL_df)\n",
    "    temp_list[0] = LL.split(',')[0]\n",
    "    temp_list[1] = LL.split(',')[1]\n",
    "    temp_list[2] = jd2cal(LL_df['DISCOVERY_DATE']-7)\n",
    "    temp_list[3] = jd2cal(LL_df['CONT_DATE'])\n",
    "    Data_csv_list.append(temp_list)\n",
    "    "
   ]
  },
  {
   "cell_type": "code",
   "execution_count": 24,
   "metadata": {},
   "outputs": [],
   "source": [
    "import csv\n",
    "with open('Data.csv', 'w', newline='') as csvfile:\n",
    "    spamwriter = csv.writer(csvfile, delimiter=',',quotechar='|', quoting=csv.QUOTE_MINIMAL)\n",
    "    # spamwriter.writerow(['lat', 'long'])\n",
    "    for val in Data_csv_list:\n",
    "        # temp = val.split(',')\n",
    "        spamwriter.writerow([val[0], val[1], val[2], val[3]])"
   ]
  },
  {
   "cell_type": "code",
   "execution_count": 25,
   "metadata": {},
   "outputs": [
    {
     "data": {
      "image/png": "[encoded data removed]",
      "text/plain": [
       "<Figure size 432x288 with 1 Axes>"
      ]
     },
     "metadata": {
      "needs_background": "light"
     },
     "output_type": "display_data"
    }
   ],
   "source": [
    "import csv\n",
    "import matplotlib.pyplot as plt\n",
    "\n",
    "fire_x = []\n",
    "fire_y = []\n",
    "\n",
    "with open('Data.csv', newline='') as csvfile:\n",
    "    spamreader = csv.reader(csvfile, delimiter=',', quotechar='|')\n",
    "    for row in spamreader:\n",
    "        temp = row\n",
    "        fire_x.append(temp[0])\n",
    "        fire_y.append(temp[1])\n",
    "\n",
    "plt.scatter(x=fire[\"LONGITUDE\"], y=fire[\"LATITUDE\"])\n",
    "plt.show()"
   ]
  },
  {
   "cell_type": "code",
   "execution_count": 26,
   "metadata": {},
   "outputs": [],
   "source": [
    "import os\n",
    "files = os.listdir('Data_Files')\n",
    "coor = []\n",
    "\n",
    "for file in files:\n",
    "    file = file.split('_')\n",
    "    coor.append(str('%.4f'%float('-'+file[6].replace('d','.').replace('W','')))+','+str('%.4f'%float(file[5].replace('d','.').replace('N',''))))"
   ]
  },
  {
   "cell_type": "code",
   "execution_count": 27,
   "metadata": {},
   "outputs": [
    {
     "name": "stdout",
     "output_type": "stream",
     "text": [
      "0\n"
     ]
    }
   ],
   "source": [
    "new_data = []\n",
    "for element in Data_csv_list:\n",
    "    temp_ele = str(element[0])+','+str(element[1])\n",
    "    if temp_ele not in coor:\n",
    "        new_data.append(element)\n",
    "print(len(new_data))"
   ]
  },
  {
   "cell_type": "code",
   "execution_count": 28,
   "metadata": {},
   "outputs": [],
   "source": [
    "import csv\n",
    "with open('Data.csv', 'w', newline='') as csvfile:\n",
    "    spamwriter = csv.writer(csvfile, delimiter=',',quotechar='|', quoting=csv.QUOTE_MINIMAL)\n",
    "    # spamwriter.writerow(['lat', 'long'])\n",
    "    for val in new_data:\n",
    "        spamwriter.writerow([val[0], val[1], val[2], val[3]])"
   ]
  },
  {
   "cell_type": "markdown",
   "metadata": {},
   "source": [
    "Feb 02, 2005"
   ]
  }
 ],
 "metadata": {
  "interpreter": {
   "hash": "a72e7fc294e7279f0d6b96a3724cc9162422ba6a3f2569882631671d0ecdbd90"
  },
  "kernelspec": {
   "display_name": "Python 3.8.11 64-bit ('WebDriver': conda)",
   "language": "python",
   "name": "python3"
  },
  "language_info": {
   "codemirror_mode": {
    "name": "ipython",
    "version": 3
   },
   "file_extension": ".py",
   "mimetype": "text/x-python",
   "name": "python",
   "nbconvert_exporter": "python",
   "pygments_lexer": "ipython3",
   "version": "3.8.12"
  },
  "orig_nbformat": 4
 },
 "nbformat": 4,
 "nbformat_minor": 2
}
