{
 "cells": [
  {
   "cell_type": "code",
   "execution_count": 1,
   "metadata": {},
   "outputs": [],
   "source": [
    "import sqlite3 as sql\n",
    "import pandas as pd"
   ]
  },
  {
   "cell_type": "code",
   "execution_count": 2,
   "metadata": {},
   "outputs": [],
   "source": [
    "conn = sql.connect('../USwildfire.sqlite')\n",
    "fire = pd.read_sql('SELECT * FROM Fires', conn)"
   ]
  },
  {
   "cell_type": "code",
   "execution_count": 3,
   "metadata": {},
   "outputs": [
    {
     "data": {
      "text/plain": [
       "pandas.core.frame.DataFrame"
      ]
     },
     "execution_count": 3,
     "metadata": {},
     "output_type": "execute_result"
    }
   ],
   "source": [
    "type(fire)"
   ]
  },
  {
   "cell_type": "code",
   "execution_count": 4,
   "metadata": {},
   "outputs": [
    {
     "data": {
      "text/plain": [
       "(1880465, 39)"
      ]
     },
     "execution_count": 4,
     "metadata": {},
     "output_type": "execute_result"
    }
   ],
   "source": [
    "fire.shape"
   ]
  },
  {
   "cell_type": "code",
   "execution_count": 5,
   "metadata": {},
   "outputs": [
    {
     "data": {
      "text/html": [
       "<div>\n",
       "<style scoped>\n",
       "    .dataframe tbody tr th:only-of-type {\n",
       "        vertical-align: middle;\n",
       "    }\n",
       "\n",
       "    .dataframe tbody tr th {\n",
       "        vertical-align: top;\n",
       "    }\n",
       "\n",
       "    .dataframe thead th {\n",
       "        text-align: right;\n",
       "    }\n",
       "</style>\n",
       "<table border=\"1\" class=\"dataframe\">\n",
       "  <thead>\n",
       "    <tr style=\"text-align: right;\">\n",
       "      <th></th>\n",
       "      <th>OBJECTID</th>\n",
       "      <th>FOD_ID</th>\n",
       "      <th>FPA_ID</th>\n",
       "      <th>SOURCE_SYSTEM_TYPE</th>\n",
       "      <th>SOURCE_SYSTEM</th>\n",
       "      <th>NWCG_REPORTING_AGENCY</th>\n",
       "      <th>NWCG_REPORTING_UNIT_ID</th>\n",
       "      <th>NWCG_REPORTING_UNIT_NAME</th>\n",
       "      <th>SOURCE_REPORTING_UNIT</th>\n",
       "      <th>SOURCE_REPORTING_UNIT_NAME</th>\n",
       "      <th>...</th>\n",
       "      <th>FIRE_SIZE_CLASS</th>\n",
       "      <th>LATITUDE</th>\n",
       "      <th>LONGITUDE</th>\n",
       "      <th>OWNER_CODE</th>\n",
       "      <th>OWNER_DESCR</th>\n",
       "      <th>STATE</th>\n",
       "      <th>COUNTY</th>\n",
       "      <th>FIPS_CODE</th>\n",
       "      <th>FIPS_NAME</th>\n",
       "      <th>Shape</th>\n",
       "    </tr>\n",
       "  </thead>\n",
       "  <tbody>\n",
       "    <tr>\n",
       "      <th>0</th>\n",
       "      <td>1</td>\n",
       "      <td>1</td>\n",
       "      <td>FS-1418826</td>\n",
       "      <td>FED</td>\n",
       "      <td>FS-FIRESTAT</td>\n",
       "      <td>FS</td>\n",
       "      <td>USCAPNF</td>\n",
       "      <td>Plumas National Forest</td>\n",
       "      <td>0511</td>\n",
       "      <td>Plumas National Forest</td>\n",
       "      <td>...</td>\n",
       "      <td>A</td>\n",
       "      <td>40.036944</td>\n",
       "      <td>-121.005833</td>\n",
       "      <td>5.0</td>\n",
       "      <td>USFS</td>\n",
       "      <td>CA</td>\n",
       "      <td>63</td>\n",
       "      <td>063</td>\n",
       "      <td>Plumas</td>\n",
       "      <td>b'\\x00\\x01\\xad\\x10\\x00\\x00\\xe8d\\xc2\\x92_@^\\xc0...</td>\n",
       "    </tr>\n",
       "    <tr>\n",
       "      <th>1</th>\n",
       "      <td>2</td>\n",
       "      <td>2</td>\n",
       "      <td>FS-1418827</td>\n",
       "      <td>FED</td>\n",
       "      <td>FS-FIRESTAT</td>\n",
       "      <td>FS</td>\n",
       "      <td>USCAENF</td>\n",
       "      <td>Eldorado National Forest</td>\n",
       "      <td>0503</td>\n",
       "      <td>Eldorado National Forest</td>\n",
       "      <td>...</td>\n",
       "      <td>A</td>\n",
       "      <td>38.933056</td>\n",
       "      <td>-120.404444</td>\n",
       "      <td>5.0</td>\n",
       "      <td>USFS</td>\n",
       "      <td>CA</td>\n",
       "      <td>61</td>\n",
       "      <td>061</td>\n",
       "      <td>Placer</td>\n",
       "      <td>b'\\x00\\x01\\xad\\x10\\x00\\x00T\\xb6\\xeej\\xe2\\x19^\\...</td>\n",
       "    </tr>\n",
       "    <tr>\n",
       "      <th>2</th>\n",
       "      <td>3</td>\n",
       "      <td>3</td>\n",
       "      <td>FS-1418835</td>\n",
       "      <td>FED</td>\n",
       "      <td>FS-FIRESTAT</td>\n",
       "      <td>FS</td>\n",
       "      <td>USCAENF</td>\n",
       "      <td>Eldorado National Forest</td>\n",
       "      <td>0503</td>\n",
       "      <td>Eldorado National Forest</td>\n",
       "      <td>...</td>\n",
       "      <td>A</td>\n",
       "      <td>38.984167</td>\n",
       "      <td>-120.735556</td>\n",
       "      <td>13.0</td>\n",
       "      <td>STATE OR PRIVATE</td>\n",
       "      <td>CA</td>\n",
       "      <td>17</td>\n",
       "      <td>017</td>\n",
       "      <td>El Dorado</td>\n",
       "      <td>b'\\x00\\x01\\xad\\x10\\x00\\x00\\xd0\\xa5\\xa0W\\x13/^\\...</td>\n",
       "    </tr>\n",
       "    <tr>\n",
       "      <th>3</th>\n",
       "      <td>4</td>\n",
       "      <td>4</td>\n",
       "      <td>FS-1418845</td>\n",
       "      <td>FED</td>\n",
       "      <td>FS-FIRESTAT</td>\n",
       "      <td>FS</td>\n",
       "      <td>USCAENF</td>\n",
       "      <td>Eldorado National Forest</td>\n",
       "      <td>0503</td>\n",
       "      <td>Eldorado National Forest</td>\n",
       "      <td>...</td>\n",
       "      <td>A</td>\n",
       "      <td>38.559167</td>\n",
       "      <td>-119.913333</td>\n",
       "      <td>5.0</td>\n",
       "      <td>USFS</td>\n",
       "      <td>CA</td>\n",
       "      <td>3</td>\n",
       "      <td>003</td>\n",
       "      <td>Alpine</td>\n",
       "      <td>b'\\x00\\x01\\xad\\x10\\x00\\x00\\x94\\xac\\xa3\\rt\\xfa]...</td>\n",
       "    </tr>\n",
       "    <tr>\n",
       "      <th>4</th>\n",
       "      <td>5</td>\n",
       "      <td>5</td>\n",
       "      <td>FS-1418847</td>\n",
       "      <td>FED</td>\n",
       "      <td>FS-FIRESTAT</td>\n",
       "      <td>FS</td>\n",
       "      <td>USCAENF</td>\n",
       "      <td>Eldorado National Forest</td>\n",
       "      <td>0503</td>\n",
       "      <td>Eldorado National Forest</td>\n",
       "      <td>...</td>\n",
       "      <td>A</td>\n",
       "      <td>38.559167</td>\n",
       "      <td>-119.933056</td>\n",
       "      <td>5.0</td>\n",
       "      <td>USFS</td>\n",
       "      <td>CA</td>\n",
       "      <td>3</td>\n",
       "      <td>003</td>\n",
       "      <td>Alpine</td>\n",
       "      <td>b'\\x00\\x01\\xad\\x10\\x00\\x00@\\xe3\\xaa.\\xb7\\xfb]\\...</td>\n",
       "    </tr>\n",
       "    <tr>\n",
       "      <th>5</th>\n",
       "      <td>6</td>\n",
       "      <td>6</td>\n",
       "      <td>FS-1418849</td>\n",
       "      <td>FED</td>\n",
       "      <td>FS-FIRESTAT</td>\n",
       "      <td>FS</td>\n",
       "      <td>USCAENF</td>\n",
       "      <td>Eldorado National Forest</td>\n",
       "      <td>0503</td>\n",
       "      <td>Eldorado National Forest</td>\n",
       "      <td>...</td>\n",
       "      <td>A</td>\n",
       "      <td>38.635278</td>\n",
       "      <td>-120.103611</td>\n",
       "      <td>5.0</td>\n",
       "      <td>USFS</td>\n",
       "      <td>CA</td>\n",
       "      <td>5</td>\n",
       "      <td>005</td>\n",
       "      <td>Amador</td>\n",
       "      <td>b'\\x00\\x01\\xad\\x10\\x00\\x00\\xf0&lt;~\\x90\\xa1\\x06^\\...</td>\n",
       "    </tr>\n",
       "    <tr>\n",
       "      <th>6</th>\n",
       "      <td>7</td>\n",
       "      <td>7</td>\n",
       "      <td>FS-1418851</td>\n",
       "      <td>FED</td>\n",
       "      <td>FS-FIRESTAT</td>\n",
       "      <td>FS</td>\n",
       "      <td>USCAENF</td>\n",
       "      <td>Eldorado National Forest</td>\n",
       "      <td>0503</td>\n",
       "      <td>Eldorado National Forest</td>\n",
       "      <td>...</td>\n",
       "      <td>A</td>\n",
       "      <td>38.688333</td>\n",
       "      <td>-120.153333</td>\n",
       "      <td>5.0</td>\n",
       "      <td>USFS</td>\n",
       "      <td>CA</td>\n",
       "      <td>17</td>\n",
       "      <td>017</td>\n",
       "      <td>El Dorado</td>\n",
       "      <td>b'\\x00\\x01\\xad\\x10\\x00\\x00$o\\x996\\xd0\\t^\\xc0h\\...</td>\n",
       "    </tr>\n",
       "    <tr>\n",
       "      <th>7</th>\n",
       "      <td>8</td>\n",
       "      <td>8</td>\n",
       "      <td>FS-1418854</td>\n",
       "      <td>FED</td>\n",
       "      <td>FS-FIRESTAT</td>\n",
       "      <td>FS</td>\n",
       "      <td>USCASHF</td>\n",
       "      <td>Shasta-Trinity National Forest</td>\n",
       "      <td>0514</td>\n",
       "      <td>Shasta-Trinity National Forest</td>\n",
       "      <td>...</td>\n",
       "      <td>B</td>\n",
       "      <td>40.968056</td>\n",
       "      <td>-122.433889</td>\n",
       "      <td>13.0</td>\n",
       "      <td>STATE OR PRIVATE</td>\n",
       "      <td>CA</td>\n",
       "      <td>None</td>\n",
       "      <td>None</td>\n",
       "      <td>None</td>\n",
       "      <td>b'\\x00\\x01\\xad\\x10\\x00\\x00t)\\xe8\\xd5\\xc4\\x9b^\\...</td>\n",
       "    </tr>\n",
       "    <tr>\n",
       "      <th>8</th>\n",
       "      <td>9</td>\n",
       "      <td>9</td>\n",
       "      <td>FS-1418856</td>\n",
       "      <td>FED</td>\n",
       "      <td>FS-FIRESTAT</td>\n",
       "      <td>FS</td>\n",
       "      <td>USCASHF</td>\n",
       "      <td>Shasta-Trinity National Forest</td>\n",
       "      <td>0514</td>\n",
       "      <td>Shasta-Trinity National Forest</td>\n",
       "      <td>...</td>\n",
       "      <td>B</td>\n",
       "      <td>41.233611</td>\n",
       "      <td>-122.283333</td>\n",
       "      <td>13.0</td>\n",
       "      <td>STATE OR PRIVATE</td>\n",
       "      <td>CA</td>\n",
       "      <td>None</td>\n",
       "      <td>None</td>\n",
       "      <td>None</td>\n",
       "      <td>b'\\x00\\x01\\xad\\x10\\x00\\x00\\xdc\\x8d\\x1e\"\"\\x92^\\...</td>\n",
       "    </tr>\n",
       "    <tr>\n",
       "      <th>9</th>\n",
       "      <td>10</td>\n",
       "      <td>10</td>\n",
       "      <td>FS-1418859</td>\n",
       "      <td>FED</td>\n",
       "      <td>FS-FIRESTAT</td>\n",
       "      <td>FS</td>\n",
       "      <td>USCAENF</td>\n",
       "      <td>Eldorado National Forest</td>\n",
       "      <td>0503</td>\n",
       "      <td>Eldorado National Forest</td>\n",
       "      <td>...</td>\n",
       "      <td>A</td>\n",
       "      <td>38.548333</td>\n",
       "      <td>-120.149167</td>\n",
       "      <td>5.0</td>\n",
       "      <td>USFS</td>\n",
       "      <td>CA</td>\n",
       "      <td>5</td>\n",
       "      <td>005</td>\n",
       "      <td>Amador</td>\n",
       "      <td>b'\\x00\\x01\\xad\\x10\\x00\\x00dS\\\\\\xf2\\x8b\\t^\\xc0\\...</td>\n",
       "    </tr>\n",
       "  </tbody>\n",
       "</table>\n",
       "<p>10 rows × 39 columns</p>\n",
       "</div>"
      ],
      "text/plain": [
       "   OBJECTID  FOD_ID      FPA_ID SOURCE_SYSTEM_TYPE SOURCE_SYSTEM  \\\n",
       "0         1       1  FS-1418826                FED   FS-FIRESTAT   \n",
       "1         2       2  FS-1418827                FED   FS-FIRESTAT   \n",
       "2         3       3  FS-1418835                FED   FS-FIRESTAT   \n",
       "3         4       4  FS-1418845                FED   FS-FIRESTAT   \n",
       "4         5       5  FS-1418847                FED   FS-FIRESTAT   \n",
       "5         6       6  FS-1418849                FED   FS-FIRESTAT   \n",
       "6         7       7  FS-1418851                FED   FS-FIRESTAT   \n",
       "7         8       8  FS-1418854                FED   FS-FIRESTAT   \n",
       "8         9       9  FS-1418856                FED   FS-FIRESTAT   \n",
       "9        10      10  FS-1418859                FED   FS-FIRESTAT   \n",
       "\n",
       "  NWCG_REPORTING_AGENCY NWCG_REPORTING_UNIT_ID  \\\n",
       "0                    FS                USCAPNF   \n",
       "1                    FS                USCAENF   \n",
       "2                    FS                USCAENF   \n",
       "3                    FS                USCAENF   \n",
       "4                    FS                USCAENF   \n",
       "5                    FS                USCAENF   \n",
       "6                    FS                USCAENF   \n",
       "7                    FS                USCASHF   \n",
       "8                    FS                USCASHF   \n",
       "9                    FS                USCAENF   \n",
       "\n",
       "         NWCG_REPORTING_UNIT_NAME SOURCE_REPORTING_UNIT  \\\n",
       "0          Plumas National Forest                  0511   \n",
       "1        Eldorado National Forest                  0503   \n",
       "2        Eldorado National Forest                  0503   \n",
       "3        Eldorado National Forest                  0503   \n",
       "4        Eldorado National Forest                  0503   \n",
       "5        Eldorado National Forest                  0503   \n",
       "6        Eldorado National Forest                  0503   \n",
       "7  Shasta-Trinity National Forest                  0514   \n",
       "8  Shasta-Trinity National Forest                  0514   \n",
       "9        Eldorado National Forest                  0503   \n",
       "\n",
       "       SOURCE_REPORTING_UNIT_NAME  ... FIRE_SIZE_CLASS   LATITUDE   LONGITUDE  \\\n",
       "0          Plumas National Forest  ...               A  40.036944 -121.005833   \n",
       "1        Eldorado National Forest  ...               A  38.933056 -120.404444   \n",
       "2        Eldorado National Forest  ...               A  38.984167 -120.735556   \n",
       "3        Eldorado National Forest  ...               A  38.559167 -119.913333   \n",
       "4        Eldorado National Forest  ...               A  38.559167 -119.933056   \n",
       "5        Eldorado National Forest  ...               A  38.635278 -120.103611   \n",
       "6        Eldorado National Forest  ...               A  38.688333 -120.153333   \n",
       "7  Shasta-Trinity National Forest  ...               B  40.968056 -122.433889   \n",
       "8  Shasta-Trinity National Forest  ...               B  41.233611 -122.283333   \n",
       "9        Eldorado National Forest  ...               A  38.548333 -120.149167   \n",
       "\n",
       "  OWNER_CODE       OWNER_DESCR STATE COUNTY FIPS_CODE  FIPS_NAME  \\\n",
       "0        5.0              USFS    CA     63       063     Plumas   \n",
       "1        5.0              USFS    CA     61       061     Placer   \n",
       "2       13.0  STATE OR PRIVATE    CA     17       017  El Dorado   \n",
       "3        5.0              USFS    CA      3       003     Alpine   \n",
       "4        5.0              USFS    CA      3       003     Alpine   \n",
       "5        5.0              USFS    CA      5       005     Amador   \n",
       "6        5.0              USFS    CA     17       017  El Dorado   \n",
       "7       13.0  STATE OR PRIVATE    CA   None      None       None   \n",
       "8       13.0  STATE OR PRIVATE    CA   None      None       None   \n",
       "9        5.0              USFS    CA      5       005     Amador   \n",
       "\n",
       "                                               Shape  \n",
       "0  b'\\x00\\x01\\xad\\x10\\x00\\x00\\xe8d\\xc2\\x92_@^\\xc0...  \n",
       "1  b'\\x00\\x01\\xad\\x10\\x00\\x00T\\xb6\\xeej\\xe2\\x19^\\...  \n",
       "2  b'\\x00\\x01\\xad\\x10\\x00\\x00\\xd0\\xa5\\xa0W\\x13/^\\...  \n",
       "3  b'\\x00\\x01\\xad\\x10\\x00\\x00\\x94\\xac\\xa3\\rt\\xfa]...  \n",
       "4  b'\\x00\\x01\\xad\\x10\\x00\\x00@\\xe3\\xaa.\\xb7\\xfb]\\...  \n",
       "5  b'\\x00\\x01\\xad\\x10\\x00\\x00\\xf0<~\\x90\\xa1\\x06^\\...  \n",
       "6  b'\\x00\\x01\\xad\\x10\\x00\\x00$o\\x996\\xd0\\t^\\xc0h\\...  \n",
       "7  b'\\x00\\x01\\xad\\x10\\x00\\x00t)\\xe8\\xd5\\xc4\\x9b^\\...  \n",
       "8  b'\\x00\\x01\\xad\\x10\\x00\\x00\\xdc\\x8d\\x1e\"\"\\x92^\\...  \n",
       "9  b'\\x00\\x01\\xad\\x10\\x00\\x00dS\\\\\\xf2\\x8b\\t^\\xc0\\...  \n",
       "\n",
       "[10 rows x 39 columns]"
      ]
     },
     "execution_count": 5,
     "metadata": {},
     "output_type": "execute_result"
    }
   ],
   "source": [
    "fire.head(10)"
   ]
  },
  {
   "cell_type": "code",
   "execution_count": 6,
   "metadata": {},
   "outputs": [],
   "source": [
    "for index, row in fire.iterrows():\n",
    "    row[\"LAT/LON\"] = str(row['LATITUDE']) +','+ str(row['LONGITUDE'])"
   ]
  },
  {
   "cell_type": "code",
   "execution_count": 7,
   "metadata": {},
   "outputs": [],
   "source": [
    "LAT_list = fire['LATITUDE'].to_list()\n",
    "LON_list = fire['LONGITUDE'].to_list()\n",
    "LAT_LON = []"
   ]
  },
  {
   "cell_type": "code",
   "execution_count": 8,
   "metadata": {},
   "outputs": [],
   "source": [
    "for index,val in enumerate(LAT_list):\n",
    "    LAT_LON.append(str(LAT_list[index])+','+str(LON_list[index]))\n"
   ]
  },
  {
   "cell_type": "code",
   "execution_count": 9,
   "metadata": {},
   "outputs": [
    {
     "data": {
      "text/plain": [
       "1880465"
      ]
     },
     "execution_count": 9,
     "metadata": {},
     "output_type": "execute_result"
    }
   ],
   "source": [
    "len(LAT_LON)"
   ]
  },
  {
   "cell_type": "code",
   "execution_count": 10,
   "metadata": {},
   "outputs": [],
   "source": [
    "fire[\"LAT/LON\"] = LAT_LON"
   ]
  },
  {
   "cell_type": "code",
   "execution_count": 11,
   "metadata": {},
   "outputs": [
    {
     "data": {
      "text/plain": [
       "1569708"
      ]
     },
     "execution_count": 11,
     "metadata": {},
     "output_type": "execute_result"
    }
   ],
   "source": [
    "fire[\"LAT/LON\"].nunique()"
   ]
  },
  {
   "cell_type": "code",
   "execution_count": 12,
   "metadata": {},
   "outputs": [
    {
     "data": {
      "text/plain": [
       "array(['40.03694444,-121.00583333', '38.93305556,-120.40444444',\n",
       "       '38.98416667,-120.73555556', ..., '40.481637,-122.389375',\n",
       "       '37.67223469,-120.89835605', '34.263217,-116.83095'], dtype=object)"
      ]
     },
     "execution_count": 12,
     "metadata": {},
     "output_type": "execute_result"
    }
   ],
   "source": [
    "LAT_LON_uni = fire[\"LAT/LON\"].unique()\n",
    "LAT_LON_uni "
   ]
  },
  {
   "cell_type": "code",
   "execution_count": 13,
   "metadata": {},
   "outputs": [],
   "source": [
    "LAT_uni = []\n",
    "LON_uni = []\n",
    "\n",
    "for val in LAT_LON_uni:\n",
    "    temp = val.split(',')\n",
    "    LAT_uni.append(temp[0])\n",
    "    LON_uni.append(temp[1])"
   ]
  },
  {
   "cell_type": "code",
   "execution_count": 14,
   "metadata": {},
   "outputs": [
    {
     "data": {
      "text/plain": [
       "1569708"
      ]
     },
     "execution_count": 14,
     "metadata": {},
     "output_type": "execute_result"
    }
   ],
   "source": [
    "len(LAT_uni)"
   ]
  },
  {
   "cell_type": "code",
   "execution_count": 15,
   "metadata": {},
   "outputs": [],
   "source": [
    "import csv\n",
    "with open('Data.csv', 'w', newline='') as csvfile:\n",
    "    spamwriter = csv.writer(csvfile, delimiter=',',quotechar='|', quoting=csv.QUOTE_MINIMAL)\n",
    "    spamwriter.writerow(['lat', 'long'])\n",
    "    for val in LAT_LON_uni:\n",
    "        temp = val.split(',')\n",
    "        spamwriter.writerow([temp[0], temp[1]])"
   ]
  },
  {
   "cell_type": "code",
   "execution_count": 16,
   "metadata": {},
   "outputs": [],
   "source": [
    "import csv\n",
    "with open('Data.csv', newline='') as csvfile:\n",
    "    spamreader = csv.reader(csvfile, delimiter=',', quotechar='|')\n",
    "    # for row in spamreader:\n",
    "    #     print(row)"
   ]
  },
  {
   "cell_type": "code",
   "execution_count": 17,
   "metadata": {},
   "outputs": [
    {
     "name": "stdout",
     "output_type": "stream",
     "text": [
      "17.93972222\n",
      "70.3306\n",
      "-178.8026\n",
      "-65.25694444\n",
      "11727.55765087666\n",
      "5825.607858252318\n"
     ]
    }
   ],
   "source": [
    "import numpy as np\n",
    "import haversine as hs\n",
    "\n",
    "fire.head()\n",
    "df = pd.read_csv(\"Data.csv\")\n",
    "\n",
    "print(min(fire[\"LATITUDE\"]))\n",
    "print(max(fire[\"LATITUDE\"]))\n",
    "print(min(fire[\"LONGITUDE\"]))\n",
    "print(max(fire[\"LONGITUDE\"]))\n",
    "\n",
    "bottomLeft = (min(fire[\"LATITUDE\"]), min(fire[\"LONGITUDE\"]))\n",
    "bottomRight = (min(fire[\"LATITUDE\"]), max(fire[\"LONGITUDE\"]))\n",
    "topLeft = (max(fire[\"LATITUDE\"]), min(fire[\"LONGITUDE\"]))\n",
    "topRight = (max(fire[\"LATITUDE\"]), max(fire[\"LONGITUDE\"]))\n",
    "\n",
    "length = hs.haversine(bottomLeft,bottomRight)\n",
    "width = hs.haversine(bottomLeft,topLeft)\n",
    "print(length)\n",
    "print(width)\n",
    "\n",
    "cols = np.linspace(bottomLeft[1], bottomRight[1], num=6000)\n",
    "rows = np.linspace(bottomLeft[0], topLeft[0], num=3000)\n",
    "\n",
    "df['col'] = np.searchsorted(cols, df['long'])\n",
    "df['row'] = np.searchsorted(rows, df['lat'])\n",
    "\n",
    "df.to_csv('Data_with_category.csv')"
   ]
  },
  {
   "cell_type": "code",
   "execution_count": 34,
   "metadata": {},
   "outputs": [
    {
     "data": {
      "text/plain": [
       "654163"
      ]
     },
     "execution_count": 34,
     "metadata": {},
     "output_type": "execute_result"
    }
   ],
   "source": [
    "data_frame = pd.read_csv(\"Data_with_category.csv\")\n",
    "\n",
    "data_frame[\"Grid\"] = data_frame[\"col\"].astype(str) + \",\" + data_frame[\"row\"].astype(str)\n",
    "data_frame.to_csv('Data_with_category.csv')\n",
    "\n",
    "data_frame[\"Grid\"].nunique()"
   ]
  },
  {
   "cell_type": "code",
   "execution_count": 37,
   "metadata": {},
   "outputs": [],
   "source": [
    "#Create one CSV out of large CSVs.\n",
    "#Add 2021 data to the Data_Set directory and run below code\n",
    "import csv, os\n",
    "directory = \"Data_Set\"\n",
    "\n",
    "index = 0\n",
    "for filename in os.listdir(directory):\n",
    "    file_path = 'Data_Set/' + filename\n",
    "    with open(file_path, \"r\") as source:\n",
    "        reader = csv.reader(source)\n",
    "        \n",
    "        with open(\"Data_Set_Edit/\"+str(index)+\".csv\", \"w\") as result:\n",
    "            writer = csv.writer(result)\n",
    "            count = 0\n",
    "            for r in reader:\n",
    "                if (count>25):\n",
    "                    writer.writerow(r)\n",
    "                count += 1\n",
    "    index += 1\n"
   ]
  }
 ],
 "metadata": {
  "interpreter": {
   "hash": "a72e7fc294e7279f0d6b96a3724cc9162422ba6a3f2569882631671d0ecdbd90"
  },
  "kernelspec": {
   "display_name": "Python 3.8.11 64-bit ('WebDriver': conda)",
   "language": "python",
   "name": "python3"
  },
  "language_info": {
   "codemirror_mode": {
    "name": "ipython",
    "version": 3
   },
   "file_extension": ".py",
   "mimetype": "text/x-python",
   "name": "python",
   "nbconvert_exporter": "python",
   "pygments_lexer": "ipython3",
   "version": "3.8.11"
  },
  "orig_nbformat": 4
 },
 "nbformat": 4,
 "nbformat_minor": 2
}
