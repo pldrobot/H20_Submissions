{
 "cells": [
  {
   "cell_type": "code",
   "execution_count": 4,
   "metadata": {},
   "outputs": [
    {
     "name": "stdout",
     "output_type": "stream",
     "text": [
      "[20]\ttraining's l2: 1.0966e+08\tvalid_0's l2: 6.40043e+07\n",
      "[40]\ttraining's l2: 9.98061e+07\tvalid_0's l2: 6.41439e+07\n",
      "[60]\ttraining's l2: 9.31254e+07\tvalid_0's l2: 6.48565e+07\n",
      "[80]\ttraining's l2: 8.84556e+07\tvalid_0's l2: 6.54925e+07\n",
      "[100]\ttraining's l2: 8.38525e+07\tvalid_0's l2: 6.59492e+07\n"
     ]
    },
    {
     "data": {
      "text/plain": [
       "<lightgbm.basic.Booster at 0x2df0c6beca0>"
      ]
     },
     "execution_count": 4,
     "metadata": {},
     "output_type": "execute_result"
    }
   ],
   "source": [
    "import lightgbm as lgb\n",
    "import pandas as pd\n",
    "import numpy as np\n",
    "from sklearn.model_selection import train_test_split\n",
    "from sklearn import metrics\n",
    "\n",
    "data = pd.read_csv('Data_final_Dropped.csv')\n",
    "data.head()\n",
    "\n",
    "# To define the input and output feature\n",
    "x = data.drop(['FIRE_SIZE','DISCOVERY_DATE'],axis=1)\n",
    "y = data.FIRE_SIZE\n",
    "# train and test split\n",
    "x_train,x_test,y_train,y_test = train_test_split(x,y,test_size=0.3,random_state=42)\n",
    "\n",
    "#Model parameters got based on Driverless AI output\n",
    "model = lgb.LGBMRegressor(learning_rate=0.03,max_depth=5,random_state=42,num_leaves=32,subsample=0.7,colsample_bytree=0.45)\n",
    "model.fit(x_train,y_train,eval_set=[(x_test,y_test),(x_train,y_train)],verbose=20,eval_metric='l2')\n",
    "\n",
    "model.booster_.save_model(\"wildfire_detector.model\")"
   ]
  }
 ],
 "metadata": {
  "interpreter": {
   "hash": "b354ac53f6ef6bc8fb0cad31cfcacc193cdf0918df6f98d611eec89c121e0c94"
  },
  "kernelspec": {
   "display_name": "Python 3.8.11 64-bit ('ML_Project': conda)",
   "language": "python",
   "name": "python3"
  },
  "language_info": {
   "codemirror_mode": {
    "name": "ipython",
    "version": 3
   },
   "file_extension": ".py",
   "mimetype": "text/x-python",
   "name": "python",
   "nbconvert_exporter": "python",
   "pygments_lexer": "ipython3",
   "version": "3.8.11"
  },
  "orig_nbformat": 4
 },
 "nbformat": 4,
 "nbformat_minor": 2
}
