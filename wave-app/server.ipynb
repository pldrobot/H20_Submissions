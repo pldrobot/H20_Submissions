{
 "cells": [
  {
   "cell_type": "code",
   "execution_count": 5,
   "metadata": {},
   "outputs": [],
   "source": [
    "from fsplit.filesplit import Filesplit\n",
    "import pickle\n",
    "import os"
   ]
  },
  {
   "cell_type": "code",
   "execution_count": 6,
   "metadata": {},
   "outputs": [
    {
     "name": "stdout",
     "output_type": "stream",
     "text": [
      "file: Appdata\\W_Data_Dict.pickle, size: 800980971\n"
     ]
    }
   ],
   "source": [
    "W_Data_Dict = {}\n",
    "if(not os.path.isfile('Appdata/W_Data_Dict.pickle4')):\n",
    "    fs = Filesplit()\n",
    "\n",
    "    def merge_cb(f, s):\n",
    "        print(\"file: {0}, size: {1}\".format(f, s))\n",
    "    fs.merge(input_dir=\"Appdata\", callback=merge_cb)\n",
    "\n",
    "else:\n",
    "    print('Data File Available')"
   ]
  },
  {
   "cell_type": "code",
   "execution_count": 7,
   "metadata": {},
   "outputs": [
    {
     "name": "stdout",
     "output_type": "stream",
     "text": [
      "File Loaded\n"
     ]
    }
   ],
   "source": [
    "open_file_ = open(\"Appdata/W_Data_Dict.pick4\", \"rb\")\n",
    "W_Data_Dict = pickle.load(open_file_)\n",
    "open_file_.close()\n",
    "print('File Loaded')"
   ]
  },
  {
   "cell_type": "code",
   "execution_count": 9,
   "metadata": {},
   "outputs": [
    {
     "name": "stdout",
     "output_type": "stream",
     "text": [
      "15953\n",
      "15953\n",
      "471\n",
      "239\n"
     ]
    }
   ],
   "source": [
    "lons = []\n",
    "lats = []\n",
    "keys = list(W_Data_Dict)\n",
    "for key in keys:\n",
    "    temp = key.split(',')\n",
    "    lons.append(float(temp[0]))\n",
    "    lats.append(float(temp[1]))\n",
    "\n",
    "print(len(lons))\n",
    "print(len(lats))\n",
    "\n",
    "lons = set(lons)\n",
    "lats = set(lats)\n",
    "\n",
    "print(len(lons))\n",
    "print(len(lats))"
   ]
  },
  {
   "cell_type": "markdown",
   "metadata": {},
   "source": [
    "#### Write and Read Location Index"
   ]
  },
  {
   "cell_type": "code",
   "execution_count": 21,
   "metadata": {},
   "outputs": [],
   "source": [
    "import csv\n",
    "\n",
    "rows = [lats,lons]\n",
    "with open('meta.csv', 'w') as f:\n",
    "    write = csv.writer(f)\n",
    "    write.writerows(rows)"
   ]
  },
  {
   "cell_type": "code",
   "execution_count": 5,
   "metadata": {},
   "outputs": [],
   "source": [
    "import csv\n",
    "\n",
    "rows = []\n",
    "with open('meta.csv', 'r') as f:\n",
    "    reader = csv.reader(f)\n",
    "    for row in reader:\n",
    "        rows.append(row)\n",
    "lats=rows[0]\n",
    "lons=rows[2]\n",
    "lats =[float(i) for i in lats]\n",
    "lons =[float(i)  for i in lons]\n"
   ]
  },
  {
   "cell_type": "code",
   "execution_count": null,
   "metadata": {},
   "outputs": [],
   "source": [
    "import firebase_admin\n",
    "from firebase_admin import credentials\n",
    "from firebase_admin import firestore\n",
    "import json\n",
    "\n",
    "cred = credentials.Certificate('nodemcu-tester-firebase-adminsdk-p8xun-4c3dfad99c.json')\n",
    "# firebase_admin.initialize_app(cred)\n",
    "db = firestore.client()\n",
    "for i,key in enumerate(W_Data_Dict):\n",
    "    print(i)\n",
    "    list_upload = {}\n",
    "    for doy,data in enumerate(W_Data_Dict[key]):\n",
    "        list_upload[str(doy+1)] = json.dumps(data)\n",
    "    doc_ref = db.collection(\"H2O\").document(key)\n",
    "    doc_ref.set(list_upload)\n"
   ]
  },
  {
   "cell_type": "code",
   "execution_count": 6,
   "metadata": {},
   "outputs": [
    {
     "data": {
      "text/plain": [
       "update_time {\n",
       "  seconds: 1643394877\n",
       "  nanos: 514835000\n",
       "}"
      ]
     },
     "execution_count": 6,
     "metadata": {},
     "output_type": "execute_result"
    }
   ],
   "source": [
    "import firebase_admin\n",
    "from firebase_admin import credentials\n",
    "from firebase_admin import firestore\n",
    "import json\n",
    "\n",
    "def listToString(s): \n",
    "    str1 = \" \" \n",
    "    opt =[\"%.4f\" % i for i in s]\n",
    "    return (str1.join(opt))\n",
    "\n",
    "cred = credentials.Certificate('nodemcu-tester-firebase-adminsdk-p8xun-4c3dfad99c.json')\n",
    "#firebase_admin.initialize_app(cred)\n",
    "db = firestore.client()\n",
    "list_upload = {}\n",
    "\n",
    "list_upload[\"LATS\"] = listToString(lats)\n",
    "list_upload[\"LONS\"] = listToString(lons)\n",
    "doc_ref = db.collection(\"H2O\").document(\"DATA\")\n",
    "doc_ref.set(list_upload)"
   ]
  },
  {
   "cell_type": "code",
   "execution_count": 9,
   "metadata": {},
   "outputs": [],
   "source": [
    "meta_data = db.collection(\"H2O\").document(\"DATA\").get()\n",
    "meta_data = meta_data.to_dict()\n",
    "lats=meta_data[\"LATS\"].split(' ')\n",
    "lons=meta_data[\"LONS\"].split(' ')\n",
    "lats_get =[float(i) for i in lats]\n",
    "lons_get =[float(i)  for i in lons]"
   ]
  },
  {
   "cell_type": "code",
   "execution_count": null,
   "metadata": {},
   "outputs": [],
   "source": [
    "import firebase_admin\n",
    "from firebase_admin import credentials\n",
    "from firebase_admin import firestore\n",
    "import json\n",
    "\n",
    "cred = credentials.Certificate('nodemcu-tester-firebase-adminsdk-p8xun-4c3dfad99c.json')\n",
    "firebase_admin.initialize_app(cred)\n",
    "db = firestore.client()"
   ]
  },
  {
   "cell_type": "code",
   "execution_count": null,
   "metadata": {},
   "outputs": [],
   "source": [
    "def getData(lat, lon, date):\n",
    "    meta_data = db.collection(\"H2O\").document(\"DATA\").get()\n",
    "    meta_data = meta_data.to_dict()\n",
    "    lats=meta_data[\"LATS\"].split(' ')\n",
    "    lons=meta_data[\"LONS\"].split(' ')\n",
    "    lats_get =[float(i) for i in lats]\n",
    "    lons_get =[float(i)  for i in lons]\n",
    "\n",
    "    lats = np.sort(np.array(lats_get))\n",
    "    lat_cat = np.searchsorted(lats, lat)\n",
    "    lat_cat = round(lats[lat_cat], 4)\n",
    "\n",
    "    lons = np.sort(np.array(lons_get))\n",
    "    lon_cat = np.searchsorted(lons, lon)\n",
    "    lon_cat = round(lons[lon_cat], 4)\n",
    "\n",
    "    location = str('%.4f' % lon_cat)+','+str('%.4f' % lat_cat)\n",
    "    doy = datetime.datetime.strptime(date, '%Y-%m-%d').timetuple().tm_yday\n",
    "    # print(location)\n",
    "    w_data_year = db.collection(\"H2O\").document(location).get()\n",
    "    w_data_year = w_data_year.to_dict()\n",
    "\n",
    "    w_data_dict = {}\n",
    "    header = ['YEAR', 'MO', 'DY', 'T2M', 'T2MDEW', 'T2MWET', 'TS', 'T2M_RANGE', 'T2M_MAX', 'T2M_MIN', 'QV2M', 'RH2M',\n",
    "              'PRECTOTCORR', 'PS', 'WS10M', 'WS10M_MAX', 'WS10M_MIN', 'WS10M_RANGE', 'WS50M', 'WS50M_MAX', 'WS50M_MIN']\n",
    "    for i in range(0, 7):\n",
    "        w_data = json.loads(w_data_year[str(doy-6+i)])\n",
    "        for ind, val in enumerate(header[3:], start=3):\n",
    "            key = val+'_'+str(i)\n",
    "            w_data_dict[key] = float(w_data[ind])\n",
    "    entries_to_remove = ('T2M_RANGE_0', 'QV2M_0', 'QV2M_1', 'T2M_RANGE_2', 'QV2M_2',\n",
    "                         'QV2M_3', 'T2M_RANGE_4', 'T2M_RANGE_5', 'PRECTOTCORR_5', 'T2M_RANGE_6')\n",
    "    for k in entries_to_remove:\n",
    "        w_data_dict.pop(k, None)\n",
    "    final_list = [lon, lat, cal2jd(date)]+list(w_data_dict.values())\n",
    "    # print(final_list)\n",
    "    return final_list"
   ]
  },
  {
   "cell_type": "code",
   "execution_count": 10,
   "metadata": {},
   "outputs": [
    {
     "name": "stdout",
     "output_type": "stream",
     "text": [
      "None\n"
     ]
    }
   ],
   "source": [
    "w_data_year = db.collection(\"H2O\").document(\"-109.8032,46.3254\").get()\n",
    "w_data_year = w_data_year.to_dict()\n",
    "print(w_data_year)"
   ]
  }
 ],
 "metadata": {
  "interpreter": {
   "hash": "b65371d91aaa6e2998830accb27156b134788004b28a4bc674d5a044c6071b93"
  },
  "kernelspec": {
   "display_name": "Python 3.8.12 64-bit ('H2O': conda)",
   "language": "python",
   "name": "python3"
  },
  "language_info": {
   "codemirror_mode": {
    "name": "ipython",
    "version": 3
   },
   "file_extension": ".py",
   "mimetype": "text/x-python",
   "name": "python",
   "nbconvert_exporter": "python",
   "pygments_lexer": "ipython3",
   "version": "3.8.12"
  },
  "orig_nbformat": 4
 },
 "nbformat": 4,
 "nbformat_minor": 2
}
